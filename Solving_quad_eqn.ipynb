{
  "nbformat": 4,
  "nbformat_minor": 0,
  "metadata": {
    "colab": {
      "name": "Solving_quad_eqn.ipynb",
      "provenance": []
    },
    "kernelspec": {
      "name": "python3",
      "display_name": "Python 3"
    },
    "language_info": {
      "name": "python"
    }
  },
  "cells": [
    {
      "cell_type": "markdown",
      "metadata": {
        "id": "thlQDW0u4CBL"
      },
      "source": [
        "USE CASE_01: Solving Quadratic Equation"
      ]
    },
    {
      "cell_type": "code",
      "metadata": {
        "colab": {
          "base_uri": "https://localhost:8080/"
        },
        "id": "yZG72lj-4MPb",
        "outputId": "8494dc99-61be-4296-ad5b-1776a1a99b3f"
      },
      "source": [
        "import math\n",
        "a=int(input(\"enter the coefficient of X^2\"))\n",
        "b=int(input(\"enter the coefficient of X\"))\n",
        "c=int(input(\"enter the value of constant\"))\n",
        "print(f\"Here the Quadratic Equation is: {a}X^2 + {b}X + {c}\")\n",
        "print(\"\\n Root of X are\\n\")\n",
        "D=(b*b)-(4*a*c)\n",
        "r1=(-b)+(math.sqrt(D))\n",
        "root_01=((r1)/(2*a))\n",
        "r2=(-b)-(math.sqrt(D))\n",
        "root_02=((r2)/(2*a))\n",
        "print(f\"two root of the equation are {root_01} and {root_02} \")\n",
        "\n"
      ],
      "execution_count": 3,
      "outputs": [
        {
          "output_type": "stream",
          "name": "stdout",
          "text": [
            "enter the coefficient of X^21\n",
            "enter the coefficient of X5\n",
            "enter the value of constant6\n",
            "Here the Quadratic Equation is: 1X^2 + 5X + 6\n",
            "\n",
            " Root of X are\n",
            "\n",
            "two root of the equation are -2.0 and -3.0 \n"
          ]
        }
      ]
    },
    {
      "cell_type": "code",
      "metadata": {
        "colab": {
          "base_uri": "https://localhost:8080/"
        },
        "id": "G18sXon94p9d",
        "outputId": "cfcbf5f2-15d1-4fa2-f8c0-25d6a60460fa"
      },
      "source": [
        "import math\n",
        "dir(math)"
      ],
      "execution_count": 2,
      "outputs": [
        {
          "output_type": "execute_result",
          "data": {
            "text/plain": [
              "['__doc__',\n",
              " '__loader__',\n",
              " '__name__',\n",
              " '__package__',\n",
              " '__spec__',\n",
              " 'acos',\n",
              " 'acosh',\n",
              " 'asin',\n",
              " 'asinh',\n",
              " 'atan',\n",
              " 'atan2',\n",
              " 'atanh',\n",
              " 'ceil',\n",
              " 'copysign',\n",
              " 'cos',\n",
              " 'cosh',\n",
              " 'degrees',\n",
              " 'e',\n",
              " 'erf',\n",
              " 'erfc',\n",
              " 'exp',\n",
              " 'expm1',\n",
              " 'fabs',\n",
              " 'factorial',\n",
              " 'floor',\n",
              " 'fmod',\n",
              " 'frexp',\n",
              " 'fsum',\n",
              " 'gamma',\n",
              " 'gcd',\n",
              " 'hypot',\n",
              " 'inf',\n",
              " 'isclose',\n",
              " 'isfinite',\n",
              " 'isinf',\n",
              " 'isnan',\n",
              " 'ldexp',\n",
              " 'lgamma',\n",
              " 'log',\n",
              " 'log10',\n",
              " 'log1p',\n",
              " 'log2',\n",
              " 'modf',\n",
              " 'nan',\n",
              " 'pi',\n",
              " 'pow',\n",
              " 'radians',\n",
              " 'remainder',\n",
              " 'sin',\n",
              " 'sinh',\n",
              " 'sqrt',\n",
              " 'tan',\n",
              " 'tanh',\n",
              " 'tau',\n",
              " 'trunc']"
            ]
          },
          "metadata": {},
          "execution_count": 2
        }
      ]
    }
  ]
}